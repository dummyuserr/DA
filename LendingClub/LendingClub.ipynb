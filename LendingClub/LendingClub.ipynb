{
 "cells": [
  {
   "cell_type": "code",
   "execution_count": 10,
   "id": "408ef525",
   "metadata": {},
   "outputs": [],
   "source": [
    "#data source -> https://www.kaggle.com/datasets/saramah/loan-data?resource=download\n",
    "\n",
    "# credit.policy: 1 if the customer meets the credit underwriting criteria of LendingClub.com, and 0 otherwise.\n",
    "\n",
    "# purpose: The purpose of the loan (takes values \"credit_card\", \"debt_consolidation\", \"educational\", \"major_purchase\", \"small_business\", and \"all_other\").\n",
    "\n",
    "# int.rate: The interest rate of the loan, as a proportion (a rate of 11% would be stored as 0.11). Borrowers judged by LendingClub.com to be more risky are assigned higher interest rates.\n",
    "\n",
    "# installment: The monthly installments owed by the borrower if the loan is funded.\n",
    "\n",
    "# log.annual.inc: The natural log of the self-reported annual income of the borrower.\n",
    "\n",
    "# dti: The debt-to-income ratio of the borrower (amount of debt divided by annual income).\n",
    "\n",
    "# fico: The FICO credit score of the borrower.\n",
    "\n",
    "# days.with.cr.line: The number of days the borrower has had a credit line.\n",
    "\n",
    "# revol.bal: The borrower's revolving balance (amount unpaid at the end of the credit card billing cycle).\n",
    "\n",
    "# revol.util: The borrower's revolving line utilization rate (the amount of the credit line used relative to total credit available).\n",
    "\n",
    "# inq.last.6mths: The borrower's number of inquiries by creditors in the last 6 months.\n",
    "\n",
    "# delinq.2yrs: The number of times the borrower had been 30+ days past due on a payment in the past 2 years.\n",
    "\n",
    "# pub.rec: The borrower's number of derogatory public records (bankruptcy filings, tax liens, or judgments).\n"
   ]
  },
  {
   "cell_type": "markdown",
   "id": "a7169b99",
   "metadata": {},
   "source": [
    "#### Exploratory Data Analysis for Loan Data."
   ]
  },
  {
   "cell_type": "code",
   "execution_count": 16,
   "id": "d9b5bc0d",
   "metadata": {},
   "outputs": [],
   "source": [
    "import pandas as pd\n",
    "import matplotlib.pyplot as plt"
   ]
  },
  {
   "cell_type": "code",
   "execution_count": 2,
   "id": "06cada06",
   "metadata": {},
   "outputs": [],
   "source": [
    "data = pd.read_csv('loan_data.csv')"
   ]
  },
  {
   "cell_type": "code",
   "execution_count": 6,
   "id": "317ff374",
   "metadata": {},
   "outputs": [
    {
     "name": "stdout",
     "output_type": "stream",
     "text": [
      "<class 'pandas.core.frame.DataFrame'>\n",
      "RangeIndex: 9578 entries, 0 to 9577\n",
      "Data columns (total 14 columns):\n",
      " #   Column             Non-Null Count  Dtype  \n",
      "---  ------             --------------  -----  \n",
      " 0   credit.policy      9578 non-null   int64  \n",
      " 1   purpose            9578 non-null   object \n",
      " 2   int.rate           9578 non-null   float64\n",
      " 3   installment        9578 non-null   float64\n",
      " 4   log.annual.inc     9578 non-null   float64\n",
      " 5   dti                9578 non-null   float64\n",
      " 6   fico               9578 non-null   int64  \n",
      " 7   days.with.cr.line  9578 non-null   float64\n",
      " 8   revol.bal          9578 non-null   int64  \n",
      " 9   revol.util         9578 non-null   float64\n",
      " 10  inq.last.6mths     9578 non-null   int64  \n",
      " 11  delinq.2yrs        9578 non-null   int64  \n",
      " 12  pub.rec            9578 non-null   int64  \n",
      " 13  not.fully.paid     9578 non-null   int64  \n",
      "dtypes: float64(6), int64(7), object(1)\n",
      "memory usage: 1.0+ MB\n"
     ]
    }
   ],
   "source": [
    "data.info()"
   ]
  },
  {
   "cell_type": "code",
   "execution_count": 7,
   "id": "5616e0ed",
   "metadata": {},
   "outputs": [
    {
     "data": {
      "text/html": [
       "<div>\n",
       "<style scoped>\n",
       "    .dataframe tbody tr th:only-of-type {\n",
       "        vertical-align: middle;\n",
       "    }\n",
       "\n",
       "    .dataframe tbody tr th {\n",
       "        vertical-align: top;\n",
       "    }\n",
       "\n",
       "    .dataframe thead th {\n",
       "        text-align: right;\n",
       "    }\n",
       "</style>\n",
       "<table border=\"1\" class=\"dataframe\">\n",
       "  <thead>\n",
       "    <tr style=\"text-align: right;\">\n",
       "      <th></th>\n",
       "      <th>credit.policy</th>\n",
       "      <th>purpose</th>\n",
       "      <th>int.rate</th>\n",
       "      <th>installment</th>\n",
       "      <th>log.annual.inc</th>\n",
       "      <th>dti</th>\n",
       "      <th>fico</th>\n",
       "      <th>days.with.cr.line</th>\n",
       "      <th>revol.bal</th>\n",
       "      <th>revol.util</th>\n",
       "      <th>inq.last.6mths</th>\n",
       "      <th>delinq.2yrs</th>\n",
       "      <th>pub.rec</th>\n",
       "      <th>not.fully.paid</th>\n",
       "    </tr>\n",
       "  </thead>\n",
       "  <tbody>\n",
       "    <tr>\n",
       "      <th>0</th>\n",
       "      <td>1</td>\n",
       "      <td>debt_consolidation</td>\n",
       "      <td>0.1189</td>\n",
       "      <td>829.10</td>\n",
       "      <td>11.350407</td>\n",
       "      <td>19.48</td>\n",
       "      <td>737</td>\n",
       "      <td>5639.958333</td>\n",
       "      <td>28854</td>\n",
       "      <td>52.1</td>\n",
       "      <td>0</td>\n",
       "      <td>0</td>\n",
       "      <td>0</td>\n",
       "      <td>0</td>\n",
       "    </tr>\n",
       "    <tr>\n",
       "      <th>1</th>\n",
       "      <td>1</td>\n",
       "      <td>credit_card</td>\n",
       "      <td>0.1071</td>\n",
       "      <td>228.22</td>\n",
       "      <td>11.082143</td>\n",
       "      <td>14.29</td>\n",
       "      <td>707</td>\n",
       "      <td>2760.000000</td>\n",
       "      <td>33623</td>\n",
       "      <td>76.7</td>\n",
       "      <td>0</td>\n",
       "      <td>0</td>\n",
       "      <td>0</td>\n",
       "      <td>0</td>\n",
       "    </tr>\n",
       "    <tr>\n",
       "      <th>2</th>\n",
       "      <td>1</td>\n",
       "      <td>debt_consolidation</td>\n",
       "      <td>0.1357</td>\n",
       "      <td>366.86</td>\n",
       "      <td>10.373491</td>\n",
       "      <td>11.63</td>\n",
       "      <td>682</td>\n",
       "      <td>4710.000000</td>\n",
       "      <td>3511</td>\n",
       "      <td>25.6</td>\n",
       "      <td>1</td>\n",
       "      <td>0</td>\n",
       "      <td>0</td>\n",
       "      <td>0</td>\n",
       "    </tr>\n",
       "    <tr>\n",
       "      <th>3</th>\n",
       "      <td>1</td>\n",
       "      <td>debt_consolidation</td>\n",
       "      <td>0.1008</td>\n",
       "      <td>162.34</td>\n",
       "      <td>11.350407</td>\n",
       "      <td>8.10</td>\n",
       "      <td>712</td>\n",
       "      <td>2699.958333</td>\n",
       "      <td>33667</td>\n",
       "      <td>73.2</td>\n",
       "      <td>1</td>\n",
       "      <td>0</td>\n",
       "      <td>0</td>\n",
       "      <td>0</td>\n",
       "    </tr>\n",
       "    <tr>\n",
       "      <th>4</th>\n",
       "      <td>1</td>\n",
       "      <td>credit_card</td>\n",
       "      <td>0.1426</td>\n",
       "      <td>102.92</td>\n",
       "      <td>11.299732</td>\n",
       "      <td>14.97</td>\n",
       "      <td>667</td>\n",
       "      <td>4066.000000</td>\n",
       "      <td>4740</td>\n",
       "      <td>39.5</td>\n",
       "      <td>0</td>\n",
       "      <td>1</td>\n",
       "      <td>0</td>\n",
       "      <td>0</td>\n",
       "    </tr>\n",
       "  </tbody>\n",
       "</table>\n",
       "</div>"
      ],
      "text/plain": [
       "   credit.policy             purpose  int.rate  installment  log.annual.inc  \\\n",
       "0              1  debt_consolidation    0.1189       829.10       11.350407   \n",
       "1              1         credit_card    0.1071       228.22       11.082143   \n",
       "2              1  debt_consolidation    0.1357       366.86       10.373491   \n",
       "3              1  debt_consolidation    0.1008       162.34       11.350407   \n",
       "4              1         credit_card    0.1426       102.92       11.299732   \n",
       "\n",
       "     dti  fico  days.with.cr.line  revol.bal  revol.util  inq.last.6mths  \\\n",
       "0  19.48   737        5639.958333      28854        52.1               0   \n",
       "1  14.29   707        2760.000000      33623        76.7               0   \n",
       "2  11.63   682        4710.000000       3511        25.6               1   \n",
       "3   8.10   712        2699.958333      33667        73.2               1   \n",
       "4  14.97   667        4066.000000       4740        39.5               0   \n",
       "\n",
       "   delinq.2yrs  pub.rec  not.fully.paid  \n",
       "0            0        0               0  \n",
       "1            0        0               0  \n",
       "2            0        0               0  \n",
       "3            0        0               0  \n",
       "4            1        0               0  "
      ]
     },
     "execution_count": 7,
     "metadata": {},
     "output_type": "execute_result"
    }
   ],
   "source": [
    "data.head()\n"
   ]
  },
  {
   "cell_type": "code",
   "execution_count": 11,
   "id": "571e2a55",
   "metadata": {},
   "outputs": [
    {
     "data": {
      "text/plain": [
       "7"
      ]
     },
     "execution_count": 11,
     "metadata": {},
     "output_type": "execute_result"
    }
   ],
   "source": [
    "data['purpose'].nunique()"
   ]
  },
  {
   "cell_type": "code",
   "execution_count": 13,
   "id": "d24af1d7",
   "metadata": {},
   "outputs": [
    {
     "data": {
      "text/plain": [
       "array(['debt_consolidation', 'credit_card', 'all_other',\n",
       "       'home_improvement', 'small_business', 'major_purchase',\n",
       "       'educational'], dtype=object)"
      ]
     },
     "execution_count": 13,
     "metadata": {},
     "output_type": "execute_result"
    }
   ],
   "source": [
    "purpose_unique = data['purpose'].unique()\n",
    "purpose_unique"
   ]
  },
  {
   "cell_type": "code",
   "execution_count": 17,
   "id": "c561617c",
   "metadata": {},
   "outputs": [
    {
     "data": {
      "text/plain": [
       "debt_consolidation    3957\n",
       "all_other             2331\n",
       "credit_card           1262\n",
       "home_improvement       629\n",
       "small_business         619\n",
       "major_purchase         437\n",
       "educational            343\n",
       "Name: purpose, dtype: int64"
      ]
     },
     "execution_count": 17,
     "metadata": {},
     "output_type": "execute_result"
    }
   ],
   "source": [
    "#getting value counts for each catrgory\n",
    "purpose_value_counts = data['purpose'].value_counts()\n",
    "purpose_value_counts"
   ]
  },
  {
   "cell_type": "code",
   "execution_count": 25,
   "id": "639f94d7",
   "metadata": {},
   "outputs": [
    {
     "data": {
      "image/png": "[encoded data removed]",
      "text/plain": [
       "<Figure size 576x432 with 1 Axes>"
      ]
     },
     "metadata": {
      "needs_background": "light"
     },
     "output_type": "display_data"
    }
   ],
   "source": [
    "plt.figure(figsize=(8,6)) #adjusting figure size\n",
    "purpose_value_counts.plot(kind='bar', color = ['red','yellow', 'green', 'blue','orange','purple','maroon'])\n",
    "plt.title(\"Loan Purpose Frequency\")\n",
    "plt.xlabel('Loan Purpose', fontsize=14)\n",
    "plt.ylabel('Frequency',fontsize=14)\n",
    "plt.xticks(rotation=45)\n",
    "#plt.grid()\n",
    "plt.show()"
   ]
  },
  {
   "cell_type": "code",
   "execution_count": 28,
   "id": "c27b3a54",
   "metadata": {},
   "outputs": [
    {
     "data": {
      "text/plain": [
       "debt_consolidation    41.313427\n",
       "all_other             24.337022\n",
       "credit_card           13.176028\n",
       "home_improvement       6.567133\n",
       "small_business         6.462727\n",
       "major_purchase         4.562539\n",
       "educational            3.581123\n",
       "Name: purpose, dtype: float64"
      ]
     },
     "execution_count": 28,
     "metadata": {},
     "output_type": "execute_result"
    }
   ],
   "source": [
    "purpose_percent = (purpose_value_counts/len(data))*100\n",
    "purpose_percent"
   ]
  },
  {
   "cell_type": "code",
   "execution_count": 29,
   "id": "33f2018e",
   "metadata": {},
   "outputs": [
    {
     "data": {
      "image/png": "[encoded data removed]",
      "text/plain": [
       "<Figure size 576x432 with 1 Axes>"
      ]
     },
     "metadata": {
      "needs_background": "light"
     },
     "output_type": "display_data"
    }
   ],
   "source": [
    "plt.figure(figsize=(8,6)) #adjusting figure size\n",
    "purpose_percent.plot(kind='bar', color = ['red','yellow', 'green', 'blue','orange','purple','maroon'])\n",
    "plt.title(\"Loan Purpose Frequency\")\n",
    "plt.xlabel('Loan Purpose', fontsize=14)\n",
    "plt.ylabel('Frequency',fontsize=14)\n",
    "plt.xticks(rotation=45)\n",
    "#plt.grid()\n",
    "plt.show()"
   ]
  },
  {
   "cell_type": "code",
   "execution_count": 36,
   "id": "aece8d6c",
   "metadata": {},
   "outputs": [
    {
     "data": {
      "text/html": [
       "<div>\n",
       "<style scoped>\n",
       "    .dataframe tbody tr th:only-of-type {\n",
       "        vertical-align: middle;\n",
       "    }\n",
       "\n",
       "    .dataframe tbody tr th {\n",
       "        vertical-align: top;\n",
       "    }\n",
       "\n",
       "    .dataframe thead th {\n",
       "        text-align: right;\n",
       "    }\n",
       "</style>\n",
       "<table border=\"1\" class=\"dataframe\">\n",
       "  <thead>\n",
       "    <tr style=\"text-align: right;\">\n",
       "      <th></th>\n",
       "      <th>count</th>\n",
       "      <th>mean</th>\n",
       "      <th>std</th>\n",
       "      <th>min</th>\n",
       "      <th>25%</th>\n",
       "      <th>50%</th>\n",
       "      <th>75%</th>\n",
       "      <th>max</th>\n",
       "    </tr>\n",
       "    <tr>\n",
       "      <th>purpose</th>\n",
       "      <th></th>\n",
       "      <th></th>\n",
       "      <th></th>\n",
       "      <th></th>\n",
       "      <th></th>\n",
       "      <th></th>\n",
       "      <th></th>\n",
       "      <th></th>\n",
       "    </tr>\n",
       "  </thead>\n",
       "  <tbody>\n",
       "    <tr>\n",
       "      <th>all_other</th>\n",
       "      <td>2331.0</td>\n",
       "      <td>0.116771</td>\n",
       "      <td>0.027152</td>\n",
       "      <td>0.0639</td>\n",
       "      <td>0.0932</td>\n",
       "      <td>0.1183</td>\n",
       "      <td>0.1355</td>\n",
       "      <td>0.2164</td>\n",
       "    </tr>\n",
       "    <tr>\n",
       "      <th>credit_card</th>\n",
       "      <td>1262.0</td>\n",
       "      <td>0.119738</td>\n",
       "      <td>0.024906</td>\n",
       "      <td>0.0600</td>\n",
       "      <td>0.1008</td>\n",
       "      <td>0.1189</td>\n",
       "      <td>0.1357</td>\n",
       "      <td>0.2086</td>\n",
       "    </tr>\n",
       "    <tr>\n",
       "      <th>debt_consolidation</th>\n",
       "      <td>3957.0</td>\n",
       "      <td>0.126595</td>\n",
       "      <td>0.024769</td>\n",
       "      <td>0.0600</td>\n",
       "      <td>0.1114</td>\n",
       "      <td>0.1280</td>\n",
       "      <td>0.1426</td>\n",
       "      <td>0.2121</td>\n",
       "    </tr>\n",
       "    <tr>\n",
       "      <th>educational</th>\n",
       "      <td>343.0</td>\n",
       "      <td>0.119907</td>\n",
       "      <td>0.026551</td>\n",
       "      <td>0.0600</td>\n",
       "      <td>0.0976</td>\n",
       "      <td>0.1218</td>\n",
       "      <td>0.1357</td>\n",
       "      <td>0.2011</td>\n",
       "    </tr>\n",
       "    <tr>\n",
       "      <th>home_improvement</th>\n",
       "      <td>629.0</td>\n",
       "      <td>0.117507</td>\n",
       "      <td>0.026889</td>\n",
       "      <td>0.0600</td>\n",
       "      <td>0.0945</td>\n",
       "      <td>0.1183</td>\n",
       "      <td>0.1348</td>\n",
       "      <td>0.2164</td>\n",
       "    </tr>\n",
       "    <tr>\n",
       "      <th>major_purchase</th>\n",
       "      <td>437.0</td>\n",
       "      <td>0.114171</td>\n",
       "      <td>0.027445</td>\n",
       "      <td>0.0705</td>\n",
       "      <td>0.0894</td>\n",
       "      <td>0.1158</td>\n",
       "      <td>0.1348</td>\n",
       "      <td>0.2017</td>\n",
       "    </tr>\n",
       "    <tr>\n",
       "      <th>small_business</th>\n",
       "      <td>619.0</td>\n",
       "      <td>0.138087</td>\n",
       "      <td>0.031191</td>\n",
       "      <td>0.0714</td>\n",
       "      <td>0.1146</td>\n",
       "      <td>0.1379</td>\n",
       "      <td>0.1600</td>\n",
       "      <td>0.2121</td>\n",
       "    </tr>\n",
       "  </tbody>\n",
       "</table>\n",
       "</div>"
      ],
      "text/plain": [
       "                     count      mean       std     min     25%     50%  \\\n",
       "purpose                                                                  \n",
       "all_other           2331.0  0.116771  0.027152  0.0639  0.0932  0.1183   \n",
       "credit_card         1262.0  0.119738  0.024906  0.0600  0.1008  0.1189   \n",
       "debt_consolidation  3957.0  0.126595  0.024769  0.0600  0.1114  0.1280   \n",
       "educational          343.0  0.119907  0.026551  0.0600  0.0976  0.1218   \n",
       "home_improvement     629.0  0.117507  0.026889  0.0600  0.0945  0.1183   \n",
       "major_purchase       437.0  0.114171  0.027445  0.0705  0.0894  0.1158   \n",
       "small_business       619.0  0.138087  0.031191  0.0714  0.1146  0.1379   \n",
       "\n",
       "                       75%     max  \n",
       "purpose                             \n",
       "all_other           0.1355  0.2164  \n",
       "credit_card         0.1357  0.2086  \n",
       "debt_consolidation  0.1426  0.2121  \n",
       "educational         0.1357  0.2011  \n",
       "home_improvement    0.1348  0.2164  \n",
       "major_purchase      0.1348  0.2017  \n",
       "small_business      0.1600  0.2121  "
      ]
     },
     "execution_count": 36,
     "metadata": {},
     "output_type": "execute_result"
    }
   ],
   "source": [
    "purpose_interest_rate = data.groupby('purpose')['int.rate'].describe()\n",
    "purpose_interest_rate"
   ]
  },
  {
   "cell_type": "code",
   "execution_count": 39,
   "id": "73e729f1",
   "metadata": {},
   "outputs": [
    {
     "data": {
      "text/html": [
       "<div>\n",
       "<style scoped>\n",
       "    .dataframe tbody tr th:only-of-type {\n",
       "        vertical-align: middle;\n",
       "    }\n",
       "\n",
       "    .dataframe tbody tr th {\n",
       "        vertical-align: top;\n",
       "    }\n",
       "\n",
       "    .dataframe thead th {\n",
       "        text-align: right;\n",
       "    }\n",
       "</style>\n",
       "<table border=\"1\" class=\"dataframe\">\n",
       "  <thead>\n",
       "    <tr style=\"text-align: right;\">\n",
       "      <th></th>\n",
       "      <th>purpose</th>\n",
       "      <th>int.rate</th>\n",
       "    </tr>\n",
       "  </thead>\n",
       "  <tbody>\n",
       "    <tr>\n",
       "      <th>0</th>\n",
       "      <td>debt_consolidation</td>\n",
       "      <td>0.1189</td>\n",
       "    </tr>\n",
       "    <tr>\n",
       "      <th>1</th>\n",
       "      <td>credit_card</td>\n",
       "      <td>0.1071</td>\n",
       "    </tr>\n",
       "    <tr>\n",
       "      <th>2</th>\n",
       "      <td>debt_consolidation</td>\n",
       "      <td>0.1357</td>\n",
       "    </tr>\n",
       "    <tr>\n",
       "      <th>3</th>\n",
       "      <td>debt_consolidation</td>\n",
       "      <td>0.1008</td>\n",
       "    </tr>\n",
       "    <tr>\n",
       "      <th>4</th>\n",
       "      <td>credit_card</td>\n",
       "      <td>0.1426</td>\n",
       "    </tr>\n",
       "    <tr>\n",
       "      <th>...</th>\n",
       "      <td>...</td>\n",
       "      <td>...</td>\n",
       "    </tr>\n",
       "    <tr>\n",
       "      <th>9573</th>\n",
       "      <td>all_other</td>\n",
       "      <td>0.1461</td>\n",
       "    </tr>\n",
       "    <tr>\n",
       "      <th>9574</th>\n",
       "      <td>all_other</td>\n",
       "      <td>0.1253</td>\n",
       "    </tr>\n",
       "    <tr>\n",
       "      <th>9575</th>\n",
       "      <td>debt_consolidation</td>\n",
       "      <td>0.1071</td>\n",
       "    </tr>\n",
       "    <tr>\n",
       "      <th>9576</th>\n",
       "      <td>home_improvement</td>\n",
       "      <td>0.1600</td>\n",
       "    </tr>\n",
       "    <tr>\n",
       "      <th>9577</th>\n",
       "      <td>debt_consolidation</td>\n",
       "      <td>0.1392</td>\n",
       "    </tr>\n",
       "  </tbody>\n",
       "</table>\n",
       "<p>9578 rows × 2 columns</p>\n",
       "</div>"
      ],
      "text/plain": [
       "                 purpose  int.rate\n",
       "0     debt_consolidation    0.1189\n",
       "1            credit_card    0.1071\n",
       "2     debt_consolidation    0.1357\n",
       "3     debt_consolidation    0.1008\n",
       "4            credit_card    0.1426\n",
       "...                  ...       ...\n",
       "9573           all_other    0.1461\n",
       "9574           all_other    0.1253\n",
       "9575  debt_consolidation    0.1071\n",
       "9576    home_improvement    0.1600\n",
       "9577  debt_consolidation    0.1392\n",
       "\n",
       "[9578 rows x 2 columns]"
      ]
     },
     "execution_count": 39,
     "metadata": {},
     "output_type": "execute_result"
    }
   ],
   "source": [
    "purp_int_clubbed_data = data[['purpose','int.rate']]\n",
    "purp_int_clubbed_data"
   ]
  },
  {
   "cell_type": "code",
   "execution_count": 43,
   "id": "b5e10788",
   "metadata": {},
   "outputs": [
    {
     "data": {
      "image/png": "[encoded data removed]",
      "text/plain": [
       "<Figure size 432x288 with 1 Axes>"
      ]
     },
     "metadata": {
      "needs_background": "light"
     },
     "output_type": "display_data"
    },
    {
     "data": {
      "text/plain": [
       "<Figure size 720x576 with 0 Axes>"
      ]
     },
     "metadata": {},
     "output_type": "display_data"
    }
   ],
   "source": [
    "import seaborn as sns\n",
    "sns.boxplot(data=purp_int_clubbed_data, x='purpose',y='int.rate')\n",
    "plt.title('Distribution of interest rate against the Loan Purpose')\n",
    "plt.xlabel('Purpose',fontsize=14)\n",
    "plt.ylabel('Interest Rate',fontsize=14)\n",
    "plt.xticks(rotation=45)\n",
    "plt.figure(figsize=(10,8))\n",
    "#plt.legend()\n",
    "plt.show()"
   ]
  },
  {
   "cell_type": "code",
   "execution_count": 50,
   "id": "8fe93820",
   "metadata": {},
   "outputs": [
    {
     "name": "stdout",
     "output_type": "stream",
     "text": [
      "Outliers:\n",
      "      credit.policy             purpose  int.rate  installment  \\\n",
      "2945              1         credit_card    0.2086       902.54   \n",
      "3713              1      small_business    0.2011       623.40   \n",
      "3991              1      small_business    0.2011       623.40   \n",
      "4064              1      small_business    0.1979       287.20   \n",
      "4731              1      small_business    0.2017       186.26   \n",
      "4761              1      small_business    0.1982       229.86   \n",
      "5093              1      small_business    0.1982       185.37   \n",
      "5274              1         credit_card    0.2017       745.01   \n",
      "5336              1  debt_consolidation    0.1982       556.10   \n",
      "5363              1      small_business    0.2017       447.01   \n",
      "5540              1  debt_consolidation    0.2086       827.33   \n",
      "5679              1  debt_consolidation    0.2121       746.24   \n",
      "5839              1      small_business    0.1982       556.10   \n",
      "5868              1      small_business    0.2121       491.20   \n",
      "6172              1           all_other    0.2086        94.02   \n",
      "6202              1      small_business    0.2121       755.69   \n",
      "6432              1      small_business    0.2052       299.43   \n",
      "6467              1      small_business    0.1982       519.03   \n",
      "6517              1  debt_consolidation    0.2121       816.14   \n",
      "7313              1  debt_consolidation    0.2090       771.28   \n",
      "7361              1    home_improvement    0.2016       893.85   \n",
      "8931              0  debt_consolidation    0.2011       260.53   \n",
      "8994              0      major_purchase    0.2011        91.19   \n",
      "9008              0      small_business    0.2011        65.14   \n",
      "9042              0      small_business    0.2011       735.06   \n",
      "9049              0           all_other    0.2011       130.27   \n",
      "9054              0      small_business    0.1979       370.57   \n",
      "9063              0         educational    0.2011       186.09   \n",
      "9145              0      small_business    0.1979       787.46   \n",
      "9155              0      small_business    0.1979       296.46   \n",
      "9180              0      small_business    0.1979       555.86   \n",
      "9196              0      small_business    0.2011       902.54   \n",
      "9202              0           all_other    0.2017        55.88   \n",
      "9208              0  debt_consolidation    0.1982       166.83   \n",
      "9248              0    home_improvement    0.2052       681.19   \n",
      "9263              0  debt_consolidation    0.2017       745.01   \n",
      "9281              0  debt_consolidation    0.2086       940.14   \n",
      "9286              0      small_business    0.2086       827.33   \n",
      "9288              0      small_business    0.1982       926.83   \n",
      "9309              0  debt_consolidation    0.1982       926.83   \n",
      "9328              0      small_business    0.2121        94.47   \n",
      "9337              0  debt_consolidation    0.2052       187.14   \n",
      "9346              0  debt_consolidation    0.2121       340.06   \n",
      "9372              0      small_business    0.2121       188.93   \n",
      "9409              0  debt_consolidation    0.2086       300.85   \n",
      "9459              0      small_business    0.2052       898.27   \n",
      "9476              0  debt_consolidation    0.2090       526.73   \n",
      "9531              0      major_purchase    0.2017       149.01   \n",
      "9549              0    home_improvement    0.2164       729.70   \n",
      "9566              0           all_other    0.2164       551.08   \n",
      "9568              0           all_other    0.1979        37.06   \n",
      "\n",
      "      log.annual.inc    dti  fico  days.with.cr.line  revol.bal  revol.util  \\\n",
      "2945       11.690653  20.92   667        6300.041667      45414        98.3   \n",
      "3713       11.451050   5.36   667        4169.958333       5848        24.3   \n",
      "3991       11.002100  21.34   662        3960.000000      13337        59.0   \n",
      "4064       10.878047  15.26   692        3509.958333      11835        98.6   \n",
      "4731       10.819778   6.00   672        5009.958333       9814        59.5   \n",
      "4761        9.862666   0.00   667        1440.000000          0         0.0   \n",
      "5093       10.858922   5.53   692        1482.041667       1025        22.3   \n",
      "5274       11.082143  15.93   662        1560.000000       4569        95.2   \n",
      "5336       10.684646   5.22   667        1590.000000      12390        98.3   \n",
      "5363       11.225243  11.25   672        4530.000000       3672        79.8   \n",
      "5540       11.813030  12.78   672       10169.958330      62553        44.2   \n",
      "5679       11.736069  19.87   662        7920.000000      90063        79.6   \n",
      "5839       10.915088  17.87   692        5422.000000      10893        97.3   \n",
      "5868       11.957611  10.45   667        3538.000000      14718        40.4   \n",
      "6172       10.727663   0.53   662        2029.041667       2106        91.6   \n",
      "6202       11.248960   5.72   672        1440.000000        500        83.3   \n",
      "6432       10.308953   8.12   677        1522.000000       7327        86.2   \n",
      "6467       10.596635   7.38   677        1590.041667      10812        85.1   \n",
      "6517       11.034890  15.45   667        3120.041667      10190        98.9   \n",
      "7313       11.141862  24.52   662        3660.000000      16491        99.9   \n",
      "7361       11.695247   2.35   667        6810.041667        366         4.3   \n",
      "8931       10.308953  10.44   667         540.041667       6402        80.0   \n",
      "8994        9.305651   3.16   667         570.000000        242         9.7   \n",
      "9008        9.903488   2.40   667         540.000000        806        17.1   \n",
      "9042       13.304685  14.39   672        7620.000000     952013        99.0   \n",
      "9049       10.819778  15.65   672         600.000000        390        26.0   \n",
      "9054       11.904968  11.58   662         722.000000       3823        26.3   \n",
      "9063       10.968198  11.01   677        1559.958333          0         0.0   \n",
      "9145       11.289782  19.20   692        5639.958333      40407        63.5   \n",
      "9155       11.350407   9.94   692        1800.000000       7491        29.0   \n",
      "9180       12.948010   8.76   682        5009.958333     374487        89.6   \n",
      "9196       11.918391  15.19   687        3240.000000       9943        80.8   \n",
      "9202       10.571317  17.32   677        1709.958333       1513        37.8   \n",
      "9208       10.858922  23.52   682        4289.958333       5444        37.3   \n",
      "9248       13.017003  14.10   697        3539.958333      27286        56.5   \n",
      "9263       12.388394   6.46   697        4199.958333      29182        97.9   \n",
      "9281       12.569941  18.64   682        4589.958333      18406        50.8   \n",
      "9286       12.301383  10.81   667        4860.000000     109901        66.5   \n",
      "9288       11.608236  16.20   737       12209.958330     144217        12.0   \n",
      "9309       11.587105  20.28   687        4320.958333      14858        99.1   \n",
      "9328       11.376418   5.21   687       12150.000000      52702        41.1   \n",
      "9337       12.089539   0.17   707        4233.958333        444        82.8   \n",
      "9346       11.407565  10.24   682        1452.000000       6089        45.1   \n",
      "9372       11.002100   0.36   662        3660.041667        581        12.1   \n",
      "9409       11.548534  17.12   667        8903.041667      53338        41.3   \n",
      "9459       11.736069  16.62   762        4231.041667          0         0.0   \n",
      "9476       10.915088  13.81   662        4110.041667      13020        33.0   \n",
      "9531       10.596635  12.39   677        3140.041667        200        13.3   \n",
      "9549       11.877569   8.63   667        8280.041667      55442        66.9   \n",
      "9566       11.002100  24.06   662        1800.000000      16441        49.8   \n",
      "9568       10.645425  22.17   667        5916.000000      28854        59.8   \n",
      "\n",
      "      inq.last.6mths  delinq.2yrs  pub.rec  not.fully.paid  \n",
      "2945               0            1        0               0  \n",
      "3713               3            3        0               1  \n",
      "3991               0            1        1               1  \n",
      "4064               1            0        0               1  \n",
      "4731               1            0        1               1  \n",
      "4761               0            0        1               1  \n",
      "5093               1            0        0               0  \n",
      "5274               0            0        0               0  \n",
      "5336               1            0        0               0  \n",
      "5363               0            0        0               0  \n",
      "5540               2            0        0               0  \n",
      "5679               1            0        0               1  \n",
      "5839               3            1        0               0  \n",
      "5868               1            0        0               0  \n",
      "6172               3            0        0               1  \n",
      "6202               1            0        0               0  \n",
      "6432               2            0        0               1  \n",
      "6467               0            0        0               0  \n",
      "6517               1            0        0               0  \n",
      "7313               1            1        0               1  \n",
      "7361               0            2        0               0  \n",
      "8931               4            0        1               1  \n",
      "8994               6            0        0               0  \n",
      "9008               5            0        0               0  \n",
      "9042               6            0        0               0  \n",
      "9049               4            0        0               1  \n",
      "9054               2            0        0               0  \n",
      "9063               8            0        0               0  \n",
      "9145               6            0        0               0  \n",
      "9155               6            0        0               1  \n",
      "9180               1            0        0               0  \n",
      "9196               4            0        0               1  \n",
      "9202              10            0        0               0  \n",
      "9208              10            0        0               0  \n",
      "9248              10            1        0               0  \n",
      "9263               9            0        0               0  \n",
      "9281               9            0        0               0  \n",
      "9286               4            0        0               1  \n",
      "9288               0            1        0               1  \n",
      "9309               4            0        0               0  \n",
      "9328               6            2        0               0  \n",
      "9337              10            0        0               0  \n",
      "9346              10            0        0               0  \n",
      "9372               5            2        0               0  \n",
      "9409               6            1        0               0  \n",
      "9459               9            0        0               0  \n",
      "9476               4            0        0               0  \n",
      "9531              10            3        0               0  \n",
      "9549               9            0        1               1  \n",
      "9566               9            0        0               1  \n",
      "9568               6            0        1               0  \n"
     ]
    }
   ],
   "source": [
    "# Trying to find extreme values or also called as outliers from data\n",
    "import pandas as pd\n",
    "\n",
    "# Assuming you have your DataFrame 'data' and the column you want to analyze is 'int.rate'\n",
    "# Replace 'data' and 'int.rate' with your actual DataFrame and column name\n",
    "\n",
    "# Calculate the first quartile (Q1) and third quartile (Q3)\n",
    "Q1 = data['int.rate'].quantile(0.25)\n",
    "Q3 = data['int.rate'].quantile(0.75)\n",
    "\n",
    "# Calculate the interquartile range (IQR)\n",
    "IQR = Q3 - Q1\n",
    "\n",
    "# Define the lower and upper bounds for outliers\n",
    "lower_bound = Q1 - 1.5 * IQR\n",
    "upper_bound = Q3 + 1.5 * IQR\n",
    "\n",
    "# Filter the DataFrame to find outliers\n",
    "outliers = data[(data['int.rate'] < lower_bound) | (data['int.rate'] > upper_bound)]\n",
    "\n",
    "# Display the outliers\n",
    "print(\"Outliers:\")\n",
    "print(outliers)\n"
   ]
  },
  {
   "cell_type": "code",
   "execution_count": 52,
   "id": "4ab865e9",
   "metadata": {},
   "outputs": [
    {
     "data": {
      "text/html": [
       "<div>\n",
       "<style scoped>\n",
       "    .dataframe tbody tr th:only-of-type {\n",
       "        vertical-align: middle;\n",
       "    }\n",
       "\n",
       "    .dataframe tbody tr th {\n",
       "        vertical-align: top;\n",
       "    }\n",
       "\n",
       "    .dataframe thead tr th {\n",
       "        text-align: left;\n",
       "    }\n",
       "\n",
       "    .dataframe thead tr:last-of-type th {\n",
       "        text-align: right;\n",
       "    }\n",
       "</style>\n",
       "<table border=\"1\" class=\"dataframe\">\n",
       "  <thead>\n",
       "    <tr>\n",
       "      <th></th>\n",
       "      <th colspan=\"3\" halign=\"left\">log.annual.inc</th>\n",
       "    </tr>\n",
       "    <tr>\n",
       "      <th></th>\n",
       "      <th>mean</th>\n",
       "      <th>max</th>\n",
       "      <th>min</th>\n",
       "    </tr>\n",
       "    <tr>\n",
       "      <th>purpose</th>\n",
       "      <th></th>\n",
       "      <th></th>\n",
       "      <th></th>\n",
       "    </tr>\n",
       "  </thead>\n",
       "  <tbody>\n",
       "    <tr>\n",
       "      <th>all_other</th>\n",
       "      <td>10.845313</td>\n",
       "      <td>13.997832</td>\n",
       "      <td>7.600902</td>\n",
       "    </tr>\n",
       "    <tr>\n",
       "      <th>credit_card</th>\n",
       "      <td>11.047230</td>\n",
       "      <td>13.142166</td>\n",
       "      <td>8.922658</td>\n",
       "    </tr>\n",
       "    <tr>\n",
       "      <th>debt_consolidation</th>\n",
       "      <td>10.912909</td>\n",
       "      <td>14.528354</td>\n",
       "      <td>7.547502</td>\n",
       "    </tr>\n",
       "    <tr>\n",
       "      <th>educational</th>\n",
       "      <td>10.549956</td>\n",
       "      <td>12.206073</td>\n",
       "      <td>8.101678</td>\n",
       "    </tr>\n",
       "    <tr>\n",
       "      <th>home_improvement</th>\n",
       "      <td>11.201979</td>\n",
       "      <td>13.487006</td>\n",
       "      <td>9.392662</td>\n",
       "    </tr>\n",
       "    <tr>\n",
       "      <th>major_purchase</th>\n",
       "      <td>10.844895</td>\n",
       "      <td>14.180154</td>\n",
       "      <td>8.699515</td>\n",
       "    </tr>\n",
       "    <tr>\n",
       "      <th>small_business</th>\n",
       "      <td>11.146216</td>\n",
       "      <td>13.331002</td>\n",
       "      <td>8.987197</td>\n",
       "    </tr>\n",
       "  </tbody>\n",
       "</table>\n",
       "</div>"
      ],
      "text/plain": [
       "                   log.annual.inc                     \n",
       "                             mean        max       min\n",
       "purpose                                               \n",
       "all_other               10.845313  13.997832  7.600902\n",
       "credit_card             11.047230  13.142166  8.922658\n",
       "debt_consolidation      10.912909  14.528354  7.547502\n",
       "educational             10.549956  12.206073  8.101678\n",
       "home_improvement        11.201979  13.487006  9.392662\n",
       "major_purchase          10.844895  14.180154  8.699515\n",
       "small_business          11.146216  13.331002  8.987197"
      ]
     },
     "execution_count": 52,
     "metadata": {},
     "output_type": "execute_result"
    }
   ],
   "source": [
    "# trying to find relation between income range and loan purpose\n",
    "\n",
    "avg_inc_loan_purpose = data.groupby('purpose').agg({'log.annual.inc':['mean','max','min']})\n",
    "avg_inc_loan_purpose\n"
   ]
  },
  {
   "cell_type": "code",
   "execution_count": 58,
   "id": "95cf6c5f",
   "metadata": {},
   "outputs": [
    {
     "data": {
      "image/png": "[encoded data removed]",
      "text/plain": [
       "<Figure size 720x576 with 1 Axes>"
      ]
     },
     "metadata": {
      "needs_background": "light"
     },
     "output_type": "display_data"
    }
   ],
   "source": [
    "\n",
    "\n",
    "# Plotting mean, max, and min log annual income for each loan purpose\n",
    "fig, ax = plt.subplots(figsize=(10, 8))\n",
    "\n",
    "# Plot mean\n",
    "avg_inc_loan_purpose['log.annual.inc']['mean'].plot(kind='bar', color='skyblue', position=0, width=0.2, ax=ax, label='Mean')\n",
    "# Plot max\n",
    "avg_inc_loan_purpose['log.annual.inc']['max'].plot(kind='bar', color='salmon', position=1, width=0.2, ax=ax, label='Max')\n",
    "# Plot min\n",
    "avg_inc_loan_purpose['log.annual.inc']['min'].plot(kind='bar', color='lightgreen', position=2, width=0.2, ax=ax, label='Min')\n",
    "\n",
    "# Adding labels and title\n",
    "plt.xlabel('Loan Purpose')\n",
    "plt.ylabel('Log Annual Income')\n",
    "plt.title('Statistics of Log Annual Income by Loan Purpose')\n",
    "plt.xticks(rotation=45)\n",
    "plt.legend()\n",
    "\n",
    "# Show plot\n",
    "plt.tight_layout()\n",
    "plt.show()\n"
   ]
  },
  {
   "cell_type": "code",
   "execution_count": 59,
   "id": "14a45dea",
   "metadata": {},
   "outputs": [
    {
     "data": {
      "image/png": "[encoded data removed]",
      "text/plain": [
       "<Figure size 720x432 with 1 Axes>"
      ]
     },
     "metadata": {
      "needs_background": "light"
     },
     "output_type": "display_data"
    }
   ],
   "source": [
    "\n",
    "\n",
    "# Plotting mean, max, and min log annual income for each loan purpose\n",
    "fig, ax = plt.subplots(figsize=(10, 6))\n",
    "\n",
    "# Plotting mean as a line\n",
    "avg_inc_loan_purpose['log.annual.inc']['mean'].plot(kind='line', marker='o', color='skyblue', ax=ax, label='Mean')\n",
    "# Plotting max as a line\n",
    "avg_inc_loan_purpose['log.annual.inc']['max'].plot(kind='line', marker='s', color='salmon', ax=ax, label='Max')\n",
    "# Plotting min as a line\n",
    "avg_inc_loan_purpose['log.annual.inc']['min'].plot(kind='line', marker='^', color='lightgreen', ax=ax, label='Min')\n",
    "\n",
    "# Adding labels and title\n",
    "plt.xlabel('Loan Purpose')\n",
    "plt.ylabel('Log Annual Income')\n",
    "plt.title('Statistics of Log Annual Income by Loan Purpose')\n",
    "plt.legend()\n",
    "\n",
    "# Show plot\n",
    "plt.tight_layout()\n",
    "plt.show()\n"
   ]
  },
  {
   "cell_type": "code",
   "execution_count": 63,
   "id": "e04b4125",
   "metadata": {},
   "outputs": [
    {
     "data": {
      "text/plain": [
       "count    9578.000000\n",
       "mean       10.932117\n",
       "std         0.614813\n",
       "min         7.547502\n",
       "25%        10.558414\n",
       "50%        10.928884\n",
       "75%        11.291293\n",
       "max        14.528354\n",
       "Name: log.annual.inc, dtype: float64"
      ]
     },
     "execution_count": 63,
     "metadata": {},
     "output_type": "execute_result"
    }
   ],
   "source": [
    "data['log.annual.inc'].describe()"
   ]
  },
  {
   "cell_type": "code",
   "execution_count": 67,
   "id": "375f4fa3",
   "metadata": {},
   "outputs": [
    {
     "data": {
      "image/png": "[encoded data removed]",
      "text/plain": [
       "<Figure size 720x432 with 1 Axes>"
      ]
     },
     "metadata": {
      "needs_background": "light"
     },
     "output_type": "display_data"
    }
   ],
   "source": [
    "plt.figure(figsize=(10,6))\n",
    "plt.boxplot(data['log.annual.inc'],vert=False)\n",
    "plt.title(\"Box Plot For Annual Income\")\n",
    "plt.xlabel('Annual Income Range')\n",
    "plt.show()"
   ]
  },
  {
   "cell_type": "code",
   "execution_count": 74,
   "id": "f9b931dc",
   "metadata": {},
   "outputs": [
    {
     "data": {
      "image/png": "[encoded data removed]",
      "text/plain": [
       "<Figure size 720x432 with 1 Axes>"
      ]
     },
     "metadata": {
      "needs_background": "light"
     },
     "output_type": "display_data"
    }
   ],
   "source": [
    "#plotting boxplot for dti record\n",
    "\n",
    "plt.figure(figsize=(10,6))\n",
    "plt.boxplot(data['dti'],vert=False)\n",
    "plt.xlabel(\"DTI Record\")\n",
    "plt.title('Debt To Income Ratio')\n",
    "plt.show()"
   ]
  },
  {
   "cell_type": "code",
   "execution_count": 71,
   "id": "8c8d92ce",
   "metadata": {},
   "outputs": [
    {
     "data": {
      "text/html": [
       "<div>\n",
       "<style scoped>\n",
       "    .dataframe tbody tr th:only-of-type {\n",
       "        vertical-align: middle;\n",
       "    }\n",
       "\n",
       "    .dataframe tbody tr th {\n",
       "        vertical-align: top;\n",
       "    }\n",
       "\n",
       "    .dataframe thead th {\n",
       "        text-align: right;\n",
       "    }\n",
       "</style>\n",
       "<table border=\"1\" class=\"dataframe\">\n",
       "  <thead>\n",
       "    <tr style=\"text-align: right;\">\n",
       "      <th></th>\n",
       "      <th>min</th>\n",
       "      <th>max</th>\n",
       "      <th>mean</th>\n",
       "    </tr>\n",
       "    <tr>\n",
       "      <th>purpose</th>\n",
       "      <th></th>\n",
       "      <th></th>\n",
       "      <th></th>\n",
       "    </tr>\n",
       "  </thead>\n",
       "  <tbody>\n",
       "    <tr>\n",
       "      <th>all_other</th>\n",
       "      <td>0.0</td>\n",
       "      <td>29.90</td>\n",
       "      <td>11.079498</td>\n",
       "    </tr>\n",
       "    <tr>\n",
       "      <th>credit_card</th>\n",
       "      <td>0.0</td>\n",
       "      <td>29.95</td>\n",
       "      <td>14.099398</td>\n",
       "    </tr>\n",
       "    <tr>\n",
       "      <th>debt_consolidation</th>\n",
       "      <td>0.0</td>\n",
       "      <td>29.96</td>\n",
       "      <td>14.076462</td>\n",
       "    </tr>\n",
       "    <tr>\n",
       "      <th>educational</th>\n",
       "      <td>0.0</td>\n",
       "      <td>29.74</td>\n",
       "      <td>11.344927</td>\n",
       "    </tr>\n",
       "    <tr>\n",
       "      <th>home_improvement</th>\n",
       "      <td>0.0</td>\n",
       "      <td>28.17</td>\n",
       "      <td>10.197504</td>\n",
       "    </tr>\n",
       "    <tr>\n",
       "      <th>major_purchase</th>\n",
       "      <td>0.0</td>\n",
       "      <td>26.15</td>\n",
       "      <td>10.159886</td>\n",
       "    </tr>\n",
       "    <tr>\n",
       "      <th>small_business</th>\n",
       "      <td>0.0</td>\n",
       "      <td>29.21</td>\n",
       "      <td>10.793296</td>\n",
       "    </tr>\n",
       "  </tbody>\n",
       "</table>\n",
       "</div>"
      ],
      "text/plain": [
       "                    min    max       mean\n",
       "purpose                                  \n",
       "all_other           0.0  29.90  11.079498\n",
       "credit_card         0.0  29.95  14.099398\n",
       "debt_consolidation  0.0  29.96  14.076462\n",
       "educational         0.0  29.74  11.344927\n",
       "home_improvement    0.0  28.17  10.197504\n",
       "major_purchase      0.0  26.15  10.159886\n",
       "small_business      0.0  29.21  10.793296"
      ]
     },
     "execution_count": 71,
     "metadata": {},
     "output_type": "execute_result"
    }
   ],
   "source": [
    "# Loan purpose and DTI record analysis\n",
    "\n",
    "purpose_dti = data.groupby('purpose')['dti'].agg(['min','max','mean'])\n",
    "purpose_dti"
   ]
  },
  {
   "cell_type": "code",
   "execution_count": 88,
   "id": "9b4a3699",
   "metadata": {},
   "outputs": [
    {
     "data": {
      "image/png": "[encoded data removed]",
      "text/plain": [
       "<Figure size 864x504 with 1 Axes>"
      ]
     },
     "metadata": {
      "needs_background": "light"
     },
     "output_type": "display_data"
    }
   ],
   "source": [
    "fig = plt.figure(figsize=(12,7))\n",
    "purpose_dti['mean'].plot(kind='bar', color = 'skyblue', position=0, width=0.3, label='MEAN')\n",
    "purpose_dti['max'].plot(kind='bar', color = 'salmon', position=1, width=0.3, label='MAX')\n",
    "purpose_dti['min'].plot(kind='bar', color = 'lightgreen', position=2, width=0.3, label='MIN')\n",
    "            \n",
    "plt.title('Bar Graph for DTI Records')\n",
    "plt.xlabel('Loan Purpose')\n",
    "plt.ylabel('DTI Records')\n",
    "plt.xticks(rotation=45)\n",
    "plt.legend()\n",
    "plt.subplots_adjust(right=1.5)\n",
    "plt.show()"
   ]
  },
  {
   "cell_type": "code",
   "execution_count": 91,
   "id": "dbd27cac",
   "metadata": {},
   "outputs": [
    {
     "name": "stdout",
     "output_type": "stream",
     "text": [
      "excellent :  145 \n",
      "very_good :  2085 \n",
      "good :  6007 \n",
      "fair :  1341 \n",
      "poor :  0\n"
     ]
    }
   ],
   "source": [
    "# FICO score analysis\n",
    "\n",
    "excellent = 0\n",
    "very_good = 0\n",
    "good = 0\n",
    "fair = 0\n",
    "poor = 0\n",
    "\n",
    "for score in data['fico']:\n",
    "    if score >= 800 and score <= 850:\n",
    "        excellent+=1\n",
    "    elif score >= 740 and score <= 799:\n",
    "        very_good+=1\n",
    "    elif score >= 670 and score <= 739:\n",
    "        good+=1\n",
    "    elif score >= 580 and score <= 669:\n",
    "        fair+=1\n",
    "    else:\n",
    "        poor+=1\n",
    "        \n",
    "print('excellent : ',excellent,'\\nvery_good : ',very_good,'\\ngood : ',good,'\\nfair : ',fair,'\\npoor : ',poor)"
   ]
  },
  {
   "cell_type": "code",
   "execution_count": 94,
   "id": "ce38431b",
   "metadata": {},
   "outputs": [
    {
     "data": {
      "image/png": "[encoded data removed]",
      "text/plain": [
       "<Figure size 720x432 with 1 Axes>"
      ]
     },
     "metadata": {
      "needs_background": "light"
     },
     "output_type": "display_data"
    }
   ],
   "source": [
    "categories = ['Excellent', 'Very Good', 'Good', 'Fair', 'Poor']\n",
    "counts = [excellent, very_good, good, fair, poor]\n",
    "\n",
    "plt.figure(figsize=(10,6))\n",
    "plt.bar(categories,counts, color = 'salmon')\n",
    "plt.title('FICO Score Analysis')\n",
    "plt.xlabel('Categories')\n",
    "plt.ylabel('Counts')\n",
    "plt.xticks(rotation=45)\n",
    "plt.show()"
   ]
  },
  {
   "cell_type": "code",
   "execution_count": 99,
   "id": "dc056dfc",
   "metadata": {},
   "outputs": [
    {
     "name": "stdout",
     "output_type": "stream",
     "text": [
      "all_other  &      credit.policy    purpose  int.rate  installment  log.annual.inc    dti  \\\n",
      "7               1  all_other    0.1114       131.22       11.002100  11.08   \n",
      "16              1  all_other    0.1317        77.69       10.522773   2.26   \n",
      "20              1  all_other    0.0800       188.02       11.225243  16.08   \n",
      "21              1  all_other    0.0863       474.42       10.819778   2.59   \n",
      "25              1  all_other    0.0901       159.03       12.429216  10.00   \n",
      "26              1  all_other    0.0743       155.38       11.082143   0.28   \n",
      "28              1  all_other    0.0743       155.38       12.206073   0.28   \n",
      "29              1  all_other    0.0743       155.38       12.206073   3.72   \n",
      "35              1  all_other    0.0743       155.38       11.461632   3.83   \n",
      "47              1  all_other    0.0838       160.72       10.373491  14.78   \n",
      "\n",
      "    fico  days.with.cr.line  revol.bal  revol.util  inq.last.6mths  \\\n",
      "7    722        5116.000000      24220        68.6               0   \n",
      "16   672        3895.958333       2211        88.4               0   \n",
      "20   772        4888.958333      29797        23.2               1   \n",
      "21   797       11951.000000       5656        27.6               0   \n",
      "25   712        1553.958333      14354        36.6               0   \n",
      "26   802        4649.958333       1576         5.7               1   \n",
      "28   772        4516.958333       3164        13.7               0   \n",
      "29   812        6778.958333      85607         0.7               0   \n",
      "35   772        2535.000000       3660         6.8               0   \n",
      "47   772        4379.000000       4737        23.9               0   \n",
      "\n",
      "    delinq.2yrs  pub.rec  not.fully.paid  \n",
      "7             0        0               1  \n",
      "16            0        0               0  \n",
      "20            0        0               0  \n",
      "21            0        0               0  \n",
      "25            2        0               0  \n",
      "26            0        0               0  \n",
      "28            0        0               0  \n",
      "29            0        0               0  \n",
      "35            0        0               0  \n",
      "47            0        0               0  \n",
      "credit_card  &      credit.policy      purpose  int.rate  installment  log.annual.inc    dti  \\\n",
      "1               1  credit_card    0.1071       228.22       11.082143  14.29   \n",
      "4               1  credit_card    0.1426       102.92       11.299732  14.97   \n",
      "5               1  credit_card    0.0788       125.13       11.904968  16.98   \n",
      "17              1  credit_card    0.0894       476.58       11.608236   7.07   \n",
      "22              1  credit_card    0.1355       339.60       11.512925   7.94   \n",
      "23              1  credit_card    0.0788       484.85       11.736069   7.05   \n",
      "31              1  credit_card    0.1028       275.38        9.798127   6.40   \n",
      "34              1  credit_card    0.0870       158.30       11.225243  15.55   \n",
      "36              1  credit_card    0.0743       155.38       11.350407   0.31   \n",
      "37              1  credit_card    0.1122       164.23       11.289782   1.21   \n",
      "\n",
      "    fico  days.with.cr.line  revol.bal  revol.util  inq.last.6mths  \\\n",
      "1    707        2760.000000      33623        76.7               0   \n",
      "4    667        4066.000000       4740        39.5               0   \n",
      "5    727        6120.041667      50807        51.0               0   \n",
      "17   797        6510.958333       7586        52.7               1   \n",
      "22   662        1939.958333      21162        57.7               0   \n",
      "23   782        5640.041667      16931        34.6               1   \n",
      "31   692        7469.958333       8847        26.9               1   \n",
      "34   757        4770.000000      66033        23.0               0   \n",
      "36   787        3540.000000        216         0.6               0   \n",
      "37   672        3990.000000      27185        16.1               3   \n",
      "\n",
      "    delinq.2yrs  pub.rec  not.fully.paid  \n",
      "1             0        0               0  \n",
      "4             1        0               0  \n",
      "5             0        0               0  \n",
      "17            0        0               0  \n",
      "22            0        0               0  \n",
      "23            0        0               0  \n",
      "31            1        0               0  \n",
      "34            0        0               0  \n",
      "36            0        0               0  \n",
      "37            0        1               0  \n",
      "debt_consolidation  &      credit.policy             purpose  int.rate  installment  log.annual.inc  \\\n",
      "0               1  debt_consolidation    0.1189       829.10       11.350407   \n",
      "2               1  debt_consolidation    0.1357       366.86       10.373491   \n",
      "3               1  debt_consolidation    0.1008       162.34       11.350407   \n",
      "6               1  debt_consolidation    0.1496       194.02       10.714418   \n",
      "9               1  debt_consolidation    0.1221        84.12       10.203592   \n",
      "10              1  debt_consolidation    0.1347       360.43       10.434116   \n",
      "11              1  debt_consolidation    0.1324       253.58       11.835009   \n",
      "12              1  debt_consolidation    0.0859       316.11       10.933107   \n",
      "14              1  debt_consolidation    0.0863       209.54        9.487972   \n",
      "18              1  debt_consolidation    0.1039       584.12       10.491274   \n",
      "\n",
      "      dti  fico  days.with.cr.line  revol.bal  revol.util  inq.last.6mths  \\\n",
      "0   19.48   737        5639.958333      28854        52.1               0   \n",
      "2   11.63   682        4710.000000       3511        25.6               1   \n",
      "3    8.10   712        2699.958333      33667        73.2               1   \n",
      "6    4.00   667        3180.041667       3839        76.8               0   \n",
      "9   10.00   707        2730.041667       5630        23.0               1   \n",
      "10  22.09   677        6713.041667      13846        71.0               2   \n",
      "11   9.16   662        4298.000000       5122        18.2               2   \n",
      "12  15.49   767        6519.958333       6068        16.7               0   \n",
      "14   9.73   727        1559.958333       6282        44.6               0   \n",
      "18   3.80   712        2760.000000       8311        59.8               0   \n",
      "\n",
      "    delinq.2yrs  pub.rec  not.fully.paid  \n",
      "0             0        0               0  \n",
      "2             0        0               0  \n",
      "3             0        0               0  \n",
      "6             0        1               1  \n",
      "9             0        0               0  \n",
      "10            0        1               0  \n",
      "11            1        0               0  \n",
      "12            0        0               0  \n",
      "14            0        0               0  \n",
      "18            0        0               0  \n",
      "educational  &       credit.policy      purpose  int.rate  installment  log.annual.inc    dti  \\\n",
      "46               1  educational    0.0775       168.60        8.987197   3.00   \n",
      "53               1  educational    0.0996       112.87        9.510445  16.44   \n",
      "77               1  educational    0.0743       124.31       10.596635   3.45   \n",
      "115              1  educational    0.1059       195.27        9.852194   8.15   \n",
      "140              1  educational    0.1249       100.35       10.279181  12.77   \n",
      "144              1  educational    0.0996        96.75        9.798127  15.40   \n",
      "166              1  educational    0.0838       315.12       10.308953   4.20   \n",
      "171              1  educational    0.0901       572.48       10.621327  15.37   \n",
      "178              1  educational    0.0775       156.11       10.858999   9.55   \n",
      "184              1  educational    0.1154       211.17       11.461632   1.83   \n",
      "\n",
      "     fico  days.with.cr.line  revol.bal  revol.util  inq.last.6mths  \\\n",
      "46    762        6659.958333       1321        16.5               0   \n",
      "53    712        1649.958333       2864        41.1               1   \n",
      "77    772        1739.958333        330        11.0               0   \n",
      "115   692        3089.958333       8528        86.1               0   \n",
      "140   662        1110.000000        566        51.5               3   \n",
      "144   707       11248.958330      12003        40.4               1   \n",
      "166   737        1560.000000       2282        19.0               1   \n",
      "171   747        7500.000000       4746        18.5               2   \n",
      "178   767       12960.041670       4067         7.3               0   \n",
      "184   667        3421.041667      11200        23.2               1   \n",
      "\n",
      "     delinq.2yrs  pub.rec  not.fully.paid  \n",
      "46             0        0               0  \n",
      "53             0        0               0  \n",
      "77             0        0               0  \n",
      "115            0        0               0  \n",
      "140            1        0               1  \n",
      "144            0        0               0  \n",
      "166            0        0               0  \n",
      "171            0        0               0  \n",
      "178            0        0               0  \n",
      "184            0        0               0  \n",
      "home_improvement  &      credit.policy           purpose  int.rate  installment  log.annual.inc  \\\n",
      "8               1  home_improvement    0.1134        87.19       11.407565   \n",
      "32              1  home_improvement    0.0743       155.38       11.918391   \n",
      "33              1  home_improvement    0.0807        78.42       11.608236   \n",
      "39              1  home_improvement    0.0933       159.77       12.100712   \n",
      "40              1  home_improvement    0.0807       156.84       12.100712   \n",
      "43              1  home_improvement    0.1028        97.20       12.206073   \n",
      "69              1  home_improvement    0.0775       156.11       12.323856   \n",
      "71              1  home_improvement    0.0807       235.25       11.918391   \n",
      "74              1  home_improvement    0.0964        80.26       11.225243   \n",
      "75              1  home_improvement    0.1280        84.00       10.373491   \n",
      "\n",
      "      dti  fico  days.with.cr.line  revol.bal  revol.util  inq.last.6mths  \\\n",
      "8   17.25   682        3989.000000      69909        51.1               1   \n",
      "32   0.00   777        7128.958333       6053        19.5               0   \n",
      "33  11.33   762        6059.958333       7274        13.1               0   \n",
      "39  11.93   717        4498.958333      60568        39.2               1   \n",
      "40   5.55   742        4019.000000      40934        26.3               0   \n",
      "43   0.00   677        3779.958333          0         0.0               0   \n",
      "69   6.48   752        5339.958333       2160         2.3               1   \n",
      "71   2.72   757        5202.000000      23678        24.4               4   \n",
      "74  20.00   772        4920.958333        269         3.8               3   \n",
      "75  20.00   682        5492.000000       3408        35.1               1   \n",
      "\n",
      "    delinq.2yrs  pub.rec  not.fully.paid  \n",
      "8             0        0               0  \n",
      "32            0        0               0  \n",
      "33            0        0               0  \n",
      "39            0        0               0  \n",
      "40            0        0               0  \n",
      "43            1        0               0  \n",
      "69            0        0               0  \n",
      "71            0        0               0  \n",
      "74            0        0               1  \n",
      "75            0        0               1  \n",
      "major_purchase  &       credit.policy         purpose  int.rate  installment  log.annual.inc  \\\n",
      "15               1  major_purchase    0.1103       327.53       10.738915   \n",
      "19               1  major_purchase    0.1513       173.65       11.002100   \n",
      "202              1  major_purchase    0.0743        93.23       11.184421   \n",
      "218              1  major_purchase    0.1186       530.36       11.366743   \n",
      "225              1  major_purchase    0.0870       158.31       10.778956   \n",
      "238              1  major_purchase    0.0838       472.68       11.251561   \n",
      "240              1  major_purchase    0.0964       224.69        9.878170   \n",
      "283              1  major_purchase    0.1059       292.91       10.162770   \n",
      "314              1  major_purchase    0.0920        63.79       10.085809   \n",
      "339              1  major_purchase    0.0838        63.03       10.464930   \n",
      "\n",
      "       dti  fico  days.with.cr.line  revol.bal  revol.util  inq.last.6mths  \\\n",
      "15   13.04   702        8159.958333       5394        53.4               1   \n",
      "19    2.74   667        1126.958333        591        84.4               3   \n",
      "202  11.18   757        4500.041667      12430        29.6               5   \n",
      "218  15.10   682        3900.000000        348         4.8               0   \n",
      "225   0.38   717       12930.041670        498         7.3               2   \n",
      "238   7.96   772        5909.041667          0         0.0               0   \n",
      "240  21.23   772        5881.000000      16324        48.0               0   \n",
      "283   5.56   682        1350.041667       6353        39.5               2   \n",
      "314  18.65   727        3455.041667        597        14.2               2   \n",
      "339  18.96   742        2190.000000       4922        30.6               0   \n",
      "\n",
      "     delinq.2yrs  pub.rec  not.fully.paid  \n",
      "15             0        0               0  \n",
      "19             0        0               0  \n",
      "202            0        0               0  \n",
      "218            0        0               1  \n",
      "225            1        0               0  \n",
      "238            0        0               0  \n",
      "240            0        0               0  \n",
      "283            0        0               0  \n",
      "314            1        0               0  \n",
      "339            0        0               0  \n",
      "small_business  &       credit.policy         purpose  int.rate  installment  log.annual.inc  \\\n",
      "13               1  small_business    0.0714        92.82       11.512925   \n",
      "42               1  small_business    0.0870        94.98       10.126631   \n",
      "51               1  small_business    0.1028       323.98       10.217422   \n",
      "52               1  small_business    0.1059       813.65       10.778956   \n",
      "55               1  small_business    0.1059       398.69       11.002100   \n",
      "73               1  small_business    0.1501       225.37       12.269047   \n",
      "89               1  small_business    0.0964       642.02       11.472103   \n",
      "90               1  small_business    0.1154       104.76        9.615805   \n",
      "102              1  small_business    0.1501        73.68       11.472103   \n",
      "114              1  small_business    0.1565       699.69       11.429544   \n",
      "\n",
      "       dti  fico  days.with.cr.line  revol.bal  revol.util  inq.last.6mths  \\\n",
      "13    6.50   747        4384.000000       3021         4.8               0   \n",
      "42   14.54   752        2460.000000       3660         7.8               1   \n",
      "51   10.70   712        1379.000000       3534        54.4               0   \n",
      "52    4.05   762        2729.958333       2422        23.3               0   \n",
      "55   17.12   747       14008.958330      17214         8.1               2   \n",
      "73    6.45   677        6240.000000      56411        75.3               0   \n",
      "89    2.86   737        2190.000000      10296        42.5               0   \n",
      "90   12.24   672        1289.958333       2867        55.1               3   \n",
      "102  16.89   702        4080.000000         51         0.0               0   \n",
      "114   1.53   667        3603.958333       4569        56.4               1   \n",
      "\n",
      "     delinq.2yrs  pub.rec  not.fully.paid  \n",
      "13             1        0               0  \n",
      "42             0        0               0  \n",
      "51             0        0               0  \n",
      "52             0        0               0  \n",
      "55             1        0               0  \n",
      "73             0        0               1  \n",
      "89             0        0               1  \n",
      "90             0        0               1  \n",
      "102            0        0               1  \n",
      "114            0        0               0  \n"
     ]
    }
   ],
   "source": [
    "for purpose, group_data in data.groupby('purpose'):\n",
    "    print(purpose,\" & \",group_data.head(10))"
   ]
  },
  {
   "cell_type": "code",
   "execution_count": 102,
   "id": "c63c27d8",
   "metadata": {},
   "outputs": [
    {
     "name": "stdout",
     "output_type": "stream",
     "text": [
      "all_other\n",
      "credit_card\n",
      "debt_consolidation\n",
      "educational\n",
      "home_improvement\n",
      "major_purchase\n",
      "small_business\n"
     ]
    }
   ],
   "source": [
    "for i in data.groupby('purpose'):\n",
    "    print(i[0])"
   ]
  },
  {
   "cell_type": "code",
   "execution_count": 130,
   "id": "731b47fa",
   "metadata": {},
   "outputs": [
    {
     "name": "stdout",
     "output_type": "stream",
     "text": [
      "Purpose-wise FICO score counts:\n",
      "\n",
      "Purpose: ALL_OTHER\n",
      "\n",
      "Excellent: 56\n",
      "Very Good: 589\n",
      "Good: 1384\n",
      "Fair: 302\n",
      "Poor: 0\n",
      "\n",
      "\n",
      "Purpose: CREDIT_CARD\n",
      "\n",
      "Excellent: 8\n",
      "Very Good: 262\n",
      "Good: 821\n",
      "Fair: 171\n",
      "Poor: 0\n",
      "\n",
      "\n",
      "Purpose: DEBT_CONSOLIDATION\n",
      "\n",
      "Excellent: 24\n",
      "Very Good: 625\n",
      "Good: 2665\n",
      "Fair: 643\n",
      "Poor: 0\n",
      "\n",
      "\n",
      "Purpose: EDUCATIONAL\n",
      "\n",
      "Excellent: 2\n",
      "Very Good: 70\n",
      "Good: 213\n",
      "Fair: 58\n",
      "Poor: 0\n",
      "\n",
      "\n",
      "Purpose: HOME_IMPROVEMENT\n",
      "\n",
      "Excellent: 25\n",
      "Very Good: 218\n",
      "Good: 317\n",
      "Fair: 69\n",
      "Poor: 0\n",
      "\n",
      "\n",
      "Purpose: MAJOR_PURCHASE\n",
      "\n",
      "Excellent: 17\n",
      "Very Good: 143\n",
      "Good: 237\n",
      "Fair: 40\n",
      "Poor: 0\n",
      "\n",
      "\n",
      "Purpose: SMALL_BUSINESS\n",
      "\n",
      "Excellent: 13\n",
      "Very Good: 178\n",
      "Good: 370\n",
      "Fair: 58\n",
      "Poor: 0\n",
      "\n"
     ]
    }
   ],
   "source": [
    "fico_ranges = {\n",
    "    'Excellent': (800, 850),\n",
    "    'Very Good': (740, 799),\n",
    "    'Good': (670, 739),\n",
    "    'Fair': (580, 669),\n",
    "    'Poor': (300, 579)\n",
    "}\n",
    "\n",
    "\n",
    "purpose_fico_counts = {}\n",
    "\n",
    "\n",
    "for purpose, grp_data in data.groupby('purpose'):\n",
    "    \n",
    "    purpose_fico_counts[purpose] = {category: 0 for category in fico_ranges}\n",
    "    \n",
    "    \n",
    "    for category, (lower_value, higher_value) in fico_ranges.items():\n",
    "        \n",
    "        dt = (grp_data['fico'] >= lower_value) & (grp_data['fico'] <= higher_value)\n",
    "        \n",
    "        \n",
    "        count_within_range = dt.sum()\n",
    "        \n",
    "        \n",
    "        purpose_fico_counts[purpose][category] = count_within_range\n",
    "\n",
    "print(\"Purpose-wise FICO score counts:\")\n",
    "for purpose, counts in purpose_fico_counts.items():\n",
    "    print(f\"\\nPurpose: {purpose.upper()}\\n\")\n",
    "    for category, count in counts.items():\n",
    "        print(f\"{category}: {count}\")\n",
    "    print()\n"
   ]
  },
  {
   "cell_type": "code",
   "execution_count": 164,
   "id": "d1c80be3",
   "metadata": {},
   "outputs": [
    {
     "name": "stdout",
     "output_type": "stream",
     "text": [
      "Number of people have bad public record on the basis of loan purpose :- \n",
      "\n",
      "purpose\n",
      "all_other             112\n",
      "credit_card            91\n",
      "debt_consolidation    279\n",
      "educational            15\n",
      "home_improvement       42\n",
      "major_purchase         21\n",
      "small_business         35\n",
      "Name: pub.rec, dtype: int64\n"
     ]
    }
   ],
   "source": [
    "print('Number of people have bad public record on the basis of loan purpose :- \\n')\n",
    "\n",
    "grp_data_purpose_pub_rec = data.groupby('purpose')['pub.rec'].sum()\n",
    "print(grp_data_purpose_pub_rec)"
   ]
  },
  {
   "cell_type": "code",
   "execution_count": 165,
   "id": "440d6aac",
   "metadata": {},
   "outputs": [
    {
     "name": "stdout",
     "output_type": "stream",
     "text": [
      "Same record in terms of percentage :- \n",
      "\n",
      "purpose\n",
      "all_other             1.169346\n",
      "credit_card           0.950094\n",
      "debt_consolidation    2.912925\n",
      "educational           0.156609\n",
      "home_improvement      0.438505\n",
      "major_purchase        0.219252\n",
      "small_business        0.365421\n",
      "Name: pub.rec, dtype: float64\n"
     ]
    }
   ],
   "source": [
    "print(\"Same record in terms of percentage :- \\n\")\n",
    "print((grp_data_purpose_pub_rec/data.shape[0])*100)"
   ]
  },
  {
   "cell_type": "code",
   "execution_count": 151,
   "id": "d3363433",
   "metadata": {},
   "outputs": [
    {
     "data": {
      "text/plain": [
       "595"
      ]
     },
     "execution_count": 151,
     "metadata": {},
     "output_type": "execute_result"
    }
   ],
   "source": [
    "grp_data_purpose_pub_rec.sum()"
   ]
  },
  {
   "cell_type": "code",
   "execution_count": 142,
   "id": "89588fa2",
   "metadata": {},
   "outputs": [
    {
     "data": {
      "text/plain": [
       "0    0\n",
       "1    0\n",
       "2    1\n",
       "3    1\n",
       "4    0\n",
       "Name: inq.last.6mths, dtype: int64"
      ]
     },
     "execution_count": 142,
     "metadata": {},
     "output_type": "execute_result"
    }
   ],
   "source": [
    "data['inq.last.6mths'].head()"
   ]
  },
  {
   "cell_type": "code",
   "execution_count": 143,
   "id": "fa9e6001",
   "metadata": {},
   "outputs": [
    {
     "data": {
      "text/plain": [
       "0    0\n",
       "1    0\n",
       "2    0\n",
       "3    0\n",
       "4    1\n",
       "Name: delinq.2yrs, dtype: int64"
      ]
     },
     "execution_count": 143,
     "metadata": {},
     "output_type": "execute_result"
    }
   ],
   "source": [
    "data['delinq.2yrs'].head()"
   ]
  },
  {
   "cell_type": "code",
   "execution_count": 149,
   "id": "e5567f2b",
   "metadata": {},
   "outputs": [
    {
     "name": "stdout",
     "output_type": "stream",
     "text": [
      "Number of borrowers whose inquiry made and they also delayed installments in past :  (723, 14)\n",
      "In percentage :  7.548548757569431\n"
     ]
    }
   ],
   "source": [
    "delayed_loan_and_inq = data[(data['inq.last.6mths']>0) & (data['delinq.2yrs']>0)]\n",
    "\n",
    "print(\"Number of borrowers whose inquiry made and they also delayed installments in past : \",delayed_loan_and_inq.shape)\n",
    "\n",
    "print(\"In percentage : \", (delayed_loan_and_inq.shape[0]/data.shape[0])*100)"
   ]
  },
  {
   "cell_type": "code",
   "execution_count": 156,
   "id": "ad0240a2",
   "metadata": {},
   "outputs": [
    {
     "name": "stdout",
     "output_type": "stream",
     "text": [
      "Number of people whose inquiry made :- \n"
     ]
    },
    {
     "data": {
      "text/plain": [
       "2462"
      ]
     },
     "execution_count": 156,
     "metadata": {},
     "output_type": "execute_result"
    }
   ],
   "source": [
    "print(\"Number of people whose inquiry made :- \")\n",
    "nums = data['inq.last.6mths'].apply(lambda x : x==1).sum()\n",
    "nums"
   ]
  },
  {
   "cell_type": "code",
   "execution_count": 157,
   "id": "1137dfc9",
   "metadata": {},
   "outputs": [
    {
     "name": "stdout",
     "output_type": "stream",
     "text": [
      "Number of people who delayed their installment :-\n"
     ]
    },
    {
     "data": {
      "text/plain": [
       "832"
      ]
     },
     "execution_count": 157,
     "metadata": {},
     "output_type": "execute_result"
    }
   ],
   "source": [
    "print(\"Number of people who delayed their installment :-\")\n",
    "nums2 = data['delinq.2yrs'].apply(lambda x : x==1).sum()\n",
    "nums2"
   ]
  },
  {
   "cell_type": "code",
   "execution_count": 168,
   "id": "91362696",
   "metadata": {},
   "outputs": [
    {
     "name": "stdout",
     "output_type": "stream",
     "text": [
      "Number of borrowers who satify credit policy criteria, yet they have bad public records :- \n"
     ]
    },
    {
     "data": {
      "text/plain": [
       "407"
      ]
     },
     "execution_count": 168,
     "metadata": {},
     "output_type": "execute_result"
    }
   ],
   "source": [
    "print(\"Number of borrowers who satify credit policy criteria, yet they have bad public records :- \")\n",
    "\n",
    "crdt_plcy_bad_publ_rec = data[(data['credit.policy']>0) & (data['pub.rec']>0)]\n",
    "crdt_plcy_bad_publ_rec.shape[0]"
   ]
  },
  {
   "cell_type": "code",
   "execution_count": null,
   "id": "1f5a6079",
   "metadata": {},
   "outputs": [],
   "source": []
  }
 ],
 "metadata": {
  "kernelspec": {
   "display_name": "Python 3 (ipykernel)",
   "language": "python",
   "name": "python3"
  },
  "language_info": {
   "codemirror_mode": {
    "name": "ipython",
    "version": 3
   },
   "file_extension": ".py",
   "mimetype": "text/x-python",
   "name": "python",
   "nbconvert_exporter": "python",
   "pygments_lexer": "ipython3",
   "version": "3.9.7"
  }
 },
 "nbformat": 4,
 "nbformat_minor": 5
}
